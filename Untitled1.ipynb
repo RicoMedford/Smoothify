{
 "cells": [
  {
   "cell_type": "code",
   "execution_count": 1,
   "metadata": {},
   "outputs": [
    {
     "name": "stderr",
     "output_type": "stream",
     "text": [
      "C:\\Users\\Will\\Anaconda3\\envs\\PythonData\\lib\\site-packages\\h5py\\__init__.py:36: FutureWarning: Conversion of the second argument of issubdtype from `float` to `np.floating` is deprecated. In future, it will be treated as `np.float64 == np.dtype(float).type`.\n",
      "  from ._conv import register_converters as _register_converters\n",
      "Using TensorFlow backend.\n"
     ]
    }
   ],
   "source": [
    "from Playlist_Track_Features import playlist_track_features\n",
    "from Playlist_Model import playlist_model"
   ]
  },
  {
   "cell_type": "code",
   "execution_count": 2,
   "metadata": {},
   "outputs": [
    {
     "name": "stdout",
     "output_type": "stream",
     "text": [
      "Epoch 1/5\n",
      " - 1s - loss: 15.9817 - acc: 0.0085\n",
      "Epoch 2/5\n",
      " - 0s - loss: 15.9817 - acc: 0.0085\n",
      "Epoch 3/5\n",
      " - 0s - loss: 15.9817 - acc: 0.0085\n",
      "Epoch 4/5\n",
      " - 0s - loss: 15.9817 - acc: 0.0085\n",
      "Epoch 5/5\n",
      " - 0s - loss: 15.9817 - acc: 0.0085\n",
      "0.31776649751235586\n",
      "Number of runs: 0\n",
      "Epoch 1/5\n",
      " - 1s - loss: 0.1364 - acc: 0.9915\n",
      "Epoch 2/5\n",
      " - 0s - loss: 0.1364 - acc: 0.9915\n",
      "Epoch 3/5\n",
      " - 0s - loss: 0.1364 - acc: 0.9915\n",
      "Epoch 4/5\n",
      " - 0s - loss: 0.1364 - acc: 0.9915\n",
      "Epoch 5/5\n",
      " - 0s - loss: 0.1364 - acc: 0.9915\n",
      "Accuracy: 0.9915397631133672\n",
      "Number of runs: 1\n"
     ]
    }
   ],
   "source": [
    "model_result = playlist_model('Everything Good', 'Inger Laisy Niemi', '0SNGe4xksgp7CGnY5kMXOJ')"
   ]
  },
  {
   "cell_type": "code",
   "execution_count": 3,
   "metadata": {},
   "outputs": [
    {
     "data": {
      "text/plain": [
       "0"
      ]
     },
     "execution_count": 3,
     "metadata": {},
     "output_type": "execute_result"
    }
   ],
   "source": [
    "model_result"
   ]
  }
 ],
 "metadata": {
  "kernelspec": {
   "display_name": "Python 3",
   "language": "python",
   "name": "python3"
  },
  "language_info": {
   "codemirror_mode": {
    "name": "ipython",
    "version": 3
   },
   "file_extension": ".py",
   "mimetype": "text/x-python",
   "name": "python",
   "nbconvert_exporter": "python",
   "pygments_lexer": "ipython3",
   "version": "3.6.5"
  }
 },
 "nbformat": 4,
 "nbformat_minor": 2
}

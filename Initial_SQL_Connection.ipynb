{
 "cells": [
  {
   "cell_type": "code",
   "execution_count": 49,
   "metadata": {},
   "outputs": [],
   "source": [
    "import pandas as pd\n",
    "from sqlalchemy import create_engine\n",
    "from sqlalchemy import types\n",
    "import pymysql\n",
    "pymysql.install_as_MySQLdb()\n",
    "from mysql_conn import password\n",
    "\n",
    "import os"
   ]
  },
  {
   "cell_type": "markdown",
   "metadata": {},
   "source": [
    "## Top 200 Daily"
   ]
  },
  {
   "cell_type": "code",
   "execution_count": 20,
   "metadata": {},
   "outputs": [
    {
     "data": {
      "text/html": [
       "<div>\n",
       "<style scoped>\n",
       "    .dataframe tbody tr th:only-of-type {\n",
       "        vertical-align: middle;\n",
       "    }\n",
       "\n",
       "    .dataframe tbody tr th {\n",
       "        vertical-align: top;\n",
       "    }\n",
       "\n",
       "    .dataframe thead th {\n",
       "        text-align: right;\n",
       "    }\n",
       "</style>\n",
       "<table border=\"1\" class=\"dataframe\">\n",
       "  <thead>\n",
       "    <tr style=\"text-align: right;\">\n",
       "      <th></th>\n",
       "      <th>Position</th>\n",
       "      <th>date</th>\n",
       "      <th>ID</th>\n",
       "    </tr>\n",
       "  </thead>\n",
       "  <tbody>\n",
       "    <tr>\n",
       "      <th>0</th>\n",
       "      <td>1</td>\n",
       "      <td>2017-01-01</td>\n",
       "      <td>4Km5HrUvYTaSUfiSGPJeQR</td>\n",
       "    </tr>\n",
       "    <tr>\n",
       "      <th>1</th>\n",
       "      <td>2</td>\n",
       "      <td>2017-01-01</td>\n",
       "      <td>343YBumqHu19cGoGARUTsd</td>\n",
       "    </tr>\n",
       "    <tr>\n",
       "      <th>2</th>\n",
       "      <td>3</td>\n",
       "      <td>2017-01-01</td>\n",
       "      <td>5aAx2yezTd8zXrkmtKl66Z</td>\n",
       "    </tr>\n",
       "    <tr>\n",
       "      <th>3</th>\n",
       "      <td>4</td>\n",
       "      <td>2017-01-01</td>\n",
       "      <td>7BKLCZ1jbUBVqRi2FVlTVw</td>\n",
       "    </tr>\n",
       "    <tr>\n",
       "      <th>4</th>\n",
       "      <td>5</td>\n",
       "      <td>2017-01-01</td>\n",
       "      <td>6fujklziTHa8uoM5OQSfIo</td>\n",
       "    </tr>\n",
       "  </tbody>\n",
       "</table>\n",
       "</div>"
      ],
      "text/plain": [
       "   Position        date                      ID\n",
       "0         1  2017-01-01  4Km5HrUvYTaSUfiSGPJeQR\n",
       "1         2  2017-01-01  343YBumqHu19cGoGARUTsd\n",
       "2         3  2017-01-01  5aAx2yezTd8zXrkmtKl66Z\n",
       "3         4  2017-01-01  7BKLCZ1jbUBVqRi2FVlTVw\n",
       "4         5  2017-01-01  6fujklziTHa8uoM5OQSfIo"
      ]
     },
     "execution_count": 20,
     "metadata": {},
     "output_type": "execute_result"
    }
   ],
   "source": [
    "top_200_daily = pd.read_csv('spotify-chart/top_200_daily.csv')\n",
    "\n",
    "top_200_daily.drop(columns = 'Unnamed: 0', inplace = True)\n",
    "# top_200_weekly.rename(columns = {'Unnamed: 0':'index'}, inplace = True)\n",
    "top_200_daily.rename(columns = {'Track Name':'Track'}, inplace = True)\n",
    "\n",
    "top_200_daily['ID'] = top_200_daily['URL'].str.split('/', expand = True)[4]\n",
    "\n",
    "# top 200 db export\n",
    "top_200_db = top_200_daily[['Position', 'date', 'ID']]\n",
    "top_200_db.head()"
   ]
  },
  {
   "cell_type": "markdown",
   "metadata": {},
   "source": [
    "## Viral 50 Daily"
   ]
  },
  {
   "cell_type": "code",
   "execution_count": 22,
   "metadata": {},
   "outputs": [
    {
     "data": {
      "text/html": [
       "<div>\n",
       "<style scoped>\n",
       "    .dataframe tbody tr th:only-of-type {\n",
       "        vertical-align: middle;\n",
       "    }\n",
       "\n",
       "    .dataframe tbody tr th {\n",
       "        vertical-align: top;\n",
       "    }\n",
       "\n",
       "    .dataframe thead th {\n",
       "        text-align: right;\n",
       "    }\n",
       "</style>\n",
       "<table border=\"1\" class=\"dataframe\">\n",
       "  <thead>\n",
       "    <tr style=\"text-align: right;\">\n",
       "      <th></th>\n",
       "      <th>Position</th>\n",
       "      <th>date</th>\n",
       "      <th>ID</th>\n",
       "    </tr>\n",
       "  </thead>\n",
       "  <tbody>\n",
       "    <tr>\n",
       "      <th>0</th>\n",
       "      <td>1</td>\n",
       "      <td>2017-01-01</td>\n",
       "      <td>1Th5b8AsauED9F7pGv8Yxi</td>\n",
       "    </tr>\n",
       "    <tr>\n",
       "      <th>1</th>\n",
       "      <td>2</td>\n",
       "      <td>2017-01-01</td>\n",
       "      <td>1D6nV9TPfMnWm7UdVsDVfI</td>\n",
       "    </tr>\n",
       "    <tr>\n",
       "      <th>2</th>\n",
       "      <td>3</td>\n",
       "      <td>2017-01-01</td>\n",
       "      <td>6F7CjVIrwk7PddQUsoPmoo</td>\n",
       "    </tr>\n",
       "    <tr>\n",
       "      <th>3</th>\n",
       "      <td>4</td>\n",
       "      <td>2017-01-01</td>\n",
       "      <td>0HEmnAUT8PHznIAAmVXqFJ</td>\n",
       "    </tr>\n",
       "    <tr>\n",
       "      <th>4</th>\n",
       "      <td>5</td>\n",
       "      <td>2017-01-01</td>\n",
       "      <td>0L0T4tMAaGqLgIVj1MOj9t</td>\n",
       "    </tr>\n",
       "  </tbody>\n",
       "</table>\n",
       "</div>"
      ],
      "text/plain": [
       "   Position        date                      ID\n",
       "0         1  2017-01-01  1Th5b8AsauED9F7pGv8Yxi\n",
       "1         2  2017-01-01  1D6nV9TPfMnWm7UdVsDVfI\n",
       "2         3  2017-01-01  6F7CjVIrwk7PddQUsoPmoo\n",
       "3         4  2017-01-01  0HEmnAUT8PHznIAAmVXqFJ\n",
       "4         5  2017-01-01  0L0T4tMAaGqLgIVj1MOj9t"
      ]
     },
     "execution_count": 22,
     "metadata": {},
     "output_type": "execute_result"
    }
   ],
   "source": [
    "viral_50_daily = pd.read_csv('spotify-chart/viral_50_daily.csv')\n",
    "\n",
    "viral_50_daily.drop(columns = 'Unnamed: 0', inplace = True)\n",
    "# top_200_weekly.rename(columns = {'Unnamed: 0':'index'}, inplace = True)\n",
    "viral_50_daily.rename(columns = {'Track Name':'Track'}, inplace = True)\n",
    "\n",
    "viral_50_daily['ID'] = viral_50_daily['URL'].str.split('/', expand = True)[4]\n",
    "\n",
    "# top 200 db export\n",
    "viral_50_db = viral_50_daily[['Position', 'date', 'ID']]\n",
    "viral_50_db.head()"
   ]
  },
  {
   "cell_type": "markdown",
   "metadata": {},
   "source": [
    "## Unique Songs"
   ]
  },
  {
   "cell_type": "code",
   "execution_count": 28,
   "metadata": {},
   "outputs": [
    {
     "data": {
      "text/html": [
       "<div>\n",
       "<style scoped>\n",
       "    .dataframe tbody tr th:only-of-type {\n",
       "        vertical-align: middle;\n",
       "    }\n",
       "\n",
       "    .dataframe tbody tr th {\n",
       "        vertical-align: top;\n",
       "    }\n",
       "\n",
       "    .dataframe thead th {\n",
       "        text-align: right;\n",
       "    }\n",
       "</style>\n",
       "<table border=\"1\" class=\"dataframe\">\n",
       "  <thead>\n",
       "    <tr style=\"text-align: right;\">\n",
       "      <th></th>\n",
       "      <th>ID</th>\n",
       "      <th>Track</th>\n",
       "      <th>Artist</th>\n",
       "    </tr>\n",
       "  </thead>\n",
       "  <tbody>\n",
       "    <tr>\n",
       "      <th>0</th>\n",
       "      <td>1Th5b8AsauED9F7pGv8Yxi</td>\n",
       "      <td>Fill Me In - AFTR:HRS Mixcut</td>\n",
       "      <td>Loud Luxury</td>\n",
       "    </tr>\n",
       "    <tr>\n",
       "      <th>1</th>\n",
       "      <td>1D6nV9TPfMnWm7UdVsDVfI</td>\n",
       "      <td>Freedom! '90</td>\n",
       "      <td>George Michael</td>\n",
       "    </tr>\n",
       "    <tr>\n",
       "      <th>2</th>\n",
       "      <td>6F7CjVIrwk7PddQUsoPmoo</td>\n",
       "      <td>You</td>\n",
       "      <td>Manwolves</td>\n",
       "    </tr>\n",
       "    <tr>\n",
       "      <th>3</th>\n",
       "      <td>0HEmnAUT8PHznIAAmVXqFJ</td>\n",
       "      <td>Faith - Remastered</td>\n",
       "      <td>George Michael</td>\n",
       "    </tr>\n",
       "    <tr>\n",
       "      <th>4</th>\n",
       "      <td>0L0T4tMAaGqLgIVj1MOj9t</td>\n",
       "      <td>Father Figure - Remastered</td>\n",
       "      <td>George Michael</td>\n",
       "    </tr>\n",
       "  </tbody>\n",
       "</table>\n",
       "</div>"
      ],
      "text/plain": [
       "                       ID                         Track          Artist\n",
       "0  1Th5b8AsauED9F7pGv8Yxi  Fill Me In - AFTR:HRS Mixcut     Loud Luxury\n",
       "1  1D6nV9TPfMnWm7UdVsDVfI                  Freedom! '90  George Michael\n",
       "2  6F7CjVIrwk7PddQUsoPmoo                           You       Manwolves\n",
       "3  0HEmnAUT8PHznIAAmVXqFJ            Faith - Remastered  George Michael\n",
       "4  0L0T4tMAaGqLgIVj1MOj9t    Father Figure - Remastered  George Michael"
      ]
     },
     "execution_count": 28,
     "metadata": {},
     "output_type": "execute_result"
    }
   ],
   "source": [
    "unique_songs = viral_50_daily.drop_duplicates('ID')[['ID', 'Track', 'Artist']]\n",
    "unique_songs.head()"
   ]
  },
  {
   "cell_type": "markdown",
   "metadata": {},
   "source": [
    "## Features"
   ]
  },
  {
   "cell_type": "code",
   "execution_count": 27,
   "metadata": {},
   "outputs": [],
   "source": []
  },
  {
   "cell_type": "code",
   "execution_count": null,
   "metadata": {},
   "outputs": [],
   "source": []
  },
  {
   "cell_type": "markdown",
   "metadata": {},
   "source": [
    "# Export Song Tables to SQL"
   ]
  },
  {
   "cell_type": "code",
   "execution_count": 29,
   "metadata": {},
   "outputs": [],
   "source": [
    "connection_string = (f\"root:{password}@localhost\")\n",
    "\n",
    "engine = create_engine(f\"mysql://{connection_string}\")\n",
    "engine.execute(\"DROP DATABASE IF EXISTS spot_db\")\n",
    "engine.execute(\"CREATE DATABASE spot_db\")\n",
    "engine.execute(\"ALTER DATABASE spot_db CHARACTER SET = utf8mb4 COLLATE = utf8mb4_unicode_ci\")\n",
    "# engine.execute(\"ALTER TABLE indeed_resumes CONVERT TO CHARACTER SET utf8mb4 COLLATE utf8mb4_unicode_ci;\")\n",
    "engine = create_engine(f\"mysql://{connection_string}/spot_db?charset=utf8mb4\")"
   ]
  },
  {
   "cell_type": "code",
   "execution_count": 30,
   "metadata": {},
   "outputs": [],
   "source": [
    "# Top 200 Daily\n",
    "engine.execute(\"USE spot_db\")\n",
    "top_200_db.to_sql(\n",
    "    name = 'top_200_daily', con = engine,\n",
    "    if_exists = 'replace')\n",
    "with engine.connect() as con:\n",
    "    con.execute('ALTER TABLE `top_200_daily` ADD PRIMARY KEY (`Index`);')"
   ]
  },
  {
   "cell_type": "code",
   "execution_count": 31,
   "metadata": {},
   "outputs": [],
   "source": [
    "# Viral 50 Daily\n",
    "engine.execute(\"USE spot_db\")\n",
    "viral_50_db.to_sql(\n",
    "    name = 'viral_50_daily', con = engine,\n",
    "    if_exists = 'replace')\n",
    "with engine.connect() as con:\n",
    "    con.execute('ALTER TABLE `viral_50_daily` ADD PRIMARY KEY (`Index`);')"
   ]
  },
  {
   "cell_type": "code",
   "execution_count": 60,
   "metadata": {},
   "outputs": [],
   "source": [
    "# Unique Songs\n",
    "engine.execute(\"USE spot_db\")\n",
    "unique_songs.to_sql(\n",
    "    name = 'songs', con = engine,\n",
    "    if_exists = 'replace', \n",
    "    dtype={'ID': types.VARCHAR(255)})\n",
    "with engine.connect() as con:\n",
    "    con.execute('ALTER TABLE `songs` ADD PRIMARY KEY (`Id`);')"
   ]
  }
 ],
 "metadata": {
  "kernelspec": {
   "display_name": "Python 3",
   "language": "python",
   "name": "python3"
  },
  "language_info": {
   "codemirror_mode": {
    "name": "ipython",
    "version": 3
   },
   "file_extension": ".py",
   "mimetype": "text/x-python",
   "name": "python",
   "nbconvert_exporter": "python",
   "pygments_lexer": "ipython3",
   "version": "3.6.5"
  }
 },
 "nbformat": 4,
 "nbformat_minor": 2
}

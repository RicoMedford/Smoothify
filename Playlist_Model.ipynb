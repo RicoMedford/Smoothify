{
 "cells": [
  {
   "cell_type": "code",
   "execution_count": 1,
   "metadata": {},
   "outputs": [
    {
     "name": "stderr",
     "output_type": "stream",
     "text": [
      "C:\\Users\\Will\\Anaconda3\\envs\\PythonData\\lib\\site-packages\\h5py\\__init__.py:36: FutureWarning: Conversion of the second argument of issubdtype from `float` to `np.floating` is deprecated. In future, it will be treated as `np.float64 == np.dtype(float).type`.\n",
      "  from ._conv import register_converters as _register_converters\n",
      "Using TensorFlow backend.\n"
     ]
    }
   ],
   "source": [
    "import numpy as np\n",
    "import pandas as pd\n",
    "\n",
    "from sklearn.model_selection import train_test_split\n",
    "from sklearn.preprocessing import LabelEncoder, StandardScaler\n",
    "from keras.utils import to_categorical\n",
    "from keras.models import Sequential\n",
    "from keras.layers import Dense\n",
    "\n",
    "from connections import password\n",
    "from Playlist_Track_Features import playlist_track_features"
   ]
  },
  {
   "cell_type": "code",
   "execution_count": 2,
   "metadata": {},
   "outputs": [
    {
     "name": "stdout",
     "output_type": "stream",
     "text": [
      " playlist_id: 07eLdS5uGbyK6Gb7bF8VaF | user_id: laisy\n"
     ]
    }
   ],
   "source": [
    "playlist_features = playlist_track_features('Everything Good', 'Inger Laisy Niemi')"
   ]
  },
  {
   "cell_type": "code",
   "execution_count": 3,
   "metadata": {},
   "outputs": [],
   "source": [
    "# Import features for scaling \n",
    "scale_features = pd.read_csv('Database_Setup/features.csv')\n",
    "scale_features.drop(['Unnamed: 0', 'ID'], axis = 1, inplace = True)\n",
    "playlist_features.rename(columns = {'acousticness':'Acousticness', 'danceability':'Danceability', \n",
    "                    'duration_ms':'Duration_ms', 'energy':'Energy', \n",
    "                    'id':'ID', 'instrumentalness':'Instrumentalness', \n",
    "                    'key':'Key', 'liveness':'Liveness', \n",
    "                    'loudness':'Loudness', 'mode':'Mode', \n",
    "                    'speechiness':'Speechiness', 'tempo':'Tempo', \n",
    "                    'time_signature':'Time_Signature', 'valence':'Valence'}, inplace = True)\n"
   ]
  },
  {
   "cell_type": "code",
   "execution_count": 4,
   "metadata": {},
   "outputs": [],
   "source": [
    "playlist_features['label'] = True\n",
    "scale_features['label'] = False"
   ]
  },
  {
   "cell_type": "code",
   "execution_count": 5,
   "metadata": {},
   "outputs": [],
   "source": [
    "all_features = playlist_features.append(scale_features)"
   ]
  },
  {
   "cell_type": "code",
   "execution_count": 6,
   "metadata": {},
   "outputs": [],
   "source": [
    "X = all_features.drop(['label'], axis = 1)\n",
    "y = all_features['label']"
   ]
  },
  {
   "cell_type": "code",
   "execution_count": 7,
   "metadata": {},
   "outputs": [],
   "source": [
    "X_train, X_test, y_train, y_test = train_test_split(\n",
    "    X, y, random_state = 1, stratify = y)\n",
    "X_scaler = StandardScaler().fit(X_train)\n",
    "X_train_scaled = X_scaler.transform(X_train)\n",
    "X_test_scaled = X_scaler.transform(X_test)\n",
    "\n",
    "# Label-encode dataset\n",
    "label_encoder = LabelEncoder()\n",
    "label_encoder.fit(y_train)\n",
    "encoded_y_train = label_encoder.transform(y_train)\n",
    "encoded_y_test = label_encoder.transform(y_test)\n",
    "\n",
    "# Convert encoded labels to one-hot-encodeing\n",
    "y_train_categorical = to_categorical(encoded_y_train)\n",
    "y_test_categorical = to_categorical(encoded_y_test)"
   ]
  },
  {
   "cell_type": "code",
   "execution_count": 8,
   "metadata": {},
   "outputs": [],
   "source": [
    "def build_model():\n",
    "    model = Sequential()\n",
    "    model.add(Dense(units=5, activation='relu', input_dim=13))\n",
    "    model.add(Dense(units=3, activation='relu'))\n",
    "    model.add(Dense(units=2, activation='softmax'))\n",
    "\n",
    "    # Compile and fit the model\n",
    "    model.compile(optimizer = 'adam',\n",
    "                 loss = 'categorical_crossentropy',\n",
    "                 metrics = ['accuracy'])\n",
    "    model.fit(X_train, \n",
    "             y_train_categorical,\n",
    "             epochs = 5,\n",
    "             shuffle = True,\n",
    "             verbose = 2)\n",
    "    \n",
    "    model_loss, model_accuracy = model.evaluate(\n",
    "    X_test_scaled, y_test_categorical, verbose=0)\n",
    "    \n",
    "    return model, model_accuracy"
   ]
  },
  {
   "cell_type": "code",
   "execution_count": 18,
   "metadata": {},
   "outputs": [
    {
     "name": "stdout",
     "output_type": "stream",
     "text": [
      "Epoch 1/5\n",
      " - 1s - loss: 0.1364 - acc: 0.9915\n",
      "Epoch 2/5\n",
      " - 0s - loss: 0.1364 - acc: 0.9915\n",
      "Epoch 3/5\n",
      " - 0s - loss: 0.1364 - acc: 0.9915\n",
      "Epoch 4/5\n",
      " - 0s - loss: 0.1364 - acc: 0.9915\n",
      "Epoch 5/5\n",
      " - 0s - loss: 0.1364 - acc: 0.9915\n",
      "0.7370558376643057\n",
      "Number of runs: 0\n",
      "Epoch 1/5\n",
      " - 1s - loss: 0.5744 - acc: 0.9915\n",
      "Epoch 2/5\n",
      " - 0s - loss: 0.3955 - acc: 0.9915\n",
      "Epoch 3/5\n",
      " - 0s - loss: 0.2834 - acc: 0.9915\n",
      "Epoch 4/5\n",
      " - 0s - loss: 0.2121 - acc: 0.9915\n",
      "Epoch 5/5\n",
      " - 0s - loss: 0.1655 - acc: 0.9915\n",
      "Accuracy: 0.9915397631133672\n",
      "Number of runs: 1\n"
     ]
    }
   ],
   "source": [
    "runs = 0\n",
    "model, model_accuracy = build_model()\n",
    "while model_accuracy < 0.9:\n",
    "    print(model_accuracy)\n",
    "    print(f\"Number of runs: {runs}\")\n",
    "    model, model_accuracy = build_model()\n",
    "    runs += 1\n",
    "\n",
    "print(f\"Accuracy: {model_accuracy}\")\n",
    "print(f\"Number of runs: {runs}\")"
   ]
  },
  {
   "cell_type": "code",
   "execution_count": 10,
   "metadata": {},
   "outputs": [
    {
     "name": "stdout",
     "output_type": "stream",
     "text": [
      "Normal Neural Network - Loss: 0.4732095663317569, Accuracy: 0.9915397631133672\n"
     ]
    }
   ],
   "source": []
  },
  {
   "cell_type": "code",
   "execution_count": 11,
   "metadata": {},
   "outputs": [
    {
     "name": "stdout",
     "output_type": "stream",
     "text": [
      "Predicted classes: [False False False False]\n",
      "Actual Labels:     [False, False, False, False]\n"
     ]
    },
    {
     "name": "stderr",
     "output_type": "stream",
     "text": [
      "C:\\Users\\Will\\Anaconda3\\envs\\PythonData\\lib\\site-packages\\sklearn\\preprocessing\\label.py:151: DeprecationWarning: The truth value of an empty array is ambiguous. Returning False, but in future this will result in an error. Use `array.size > 0` to check that an array is not empty.\n",
      "  if diff:\n"
     ]
    }
   ],
   "source": []
  }
 ],
 "metadata": {
  "kernelspec": {
   "display_name": "Python 3",
   "language": "python",
   "name": "python3"
  },
  "language_info": {
   "codemirror_mode": {
    "name": "ipython",
    "version": 3
   },
   "file_extension": ".py",
   "mimetype": "text/x-python",
   "name": "python",
   "nbconvert_exporter": "python",
   "pygments_lexer": "ipython3",
   "version": "3.6.5"
  }
 },
 "nbformat": 4,
 "nbformat_minor": 2
}

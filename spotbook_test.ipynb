{
 "cells": [
  {
   "cell_type": "code",
   "execution_count": null,
   "metadata": {},
   "outputs": [],
   "source": [
    "import spotipy\n",
    "from spotipy.oauth2 import SpotifyClientCredentials"
   ]
  },
  {
   "cell_type": "code",
   "execution_count": null,
   "metadata": {},
   "outputs": [],
   "source": [
    "from pprint import pprint\n",
    "import json"
   ]
  },
  {
   "cell_type": "code",
   "execution_count": null,
   "metadata": {},
   "outputs": [],
   "source": [
    "# Client credentials\n",
    "client_credentials_manager = SpotifyClientCredentials(\n",
    "    client_id='7b0e5ed233304809ae9933fd28fb4ee8', \n",
    "    client_secret='4eed3ec87a9d495abb015fce79cf5314')\n",
    "sp = spotipy.Spotify(client_credentials_manager=client_credentials_manager)"
   ]
  },
  {
   "cell_type": "code",
   "execution_count": null,
   "metadata": {},
   "outputs": [],
   "source": [
    "# Today\n",
    "import datetime\n",
    "current_date = datetime.datetime.today().strftime('%Y-%m-%d')"
   ]
  },
  {
   "cell_type": "markdown",
   "metadata": {},
   "source": [
    "# Playlist Track Titles and IDs"
   ]
  },
  {
   "cell_type": "code",
   "execution_count": null,
   "metadata": {},
   "outputs": [],
   "source": [
    "playlist_ids = {'United States Viral 50':'37i9dQZEVXbKuaTI1Z1Afx',\n",
    "                'United States Top 50':'37i9dQZEVXbLRQDuF5jeBp'}"
   ]
  },
  {
   "cell_type": "code",
   "execution_count": null,
   "metadata": {},
   "outputs": [],
   "source": [
    "playlist_tracks = [current_date]\n",
    "track_name = result['track']['name']\n",
    "track_id = result['track']['id']\n",
    "\n",
    "for name, id in playlist_ids.items():\n",
    "    results = sp.user_playlist_tracks(user = 'spotifycharts', playlist_id = id, fields = 'items(track(name, id))')\n",
    "    \n",
    "    tracks = []\n",
    "    for result in results['items']:\n",
    "        tracks.append([result['track']['name'], result['track']['id']])\n",
    "        \n",
    "    playlist_tracks.append([name, tracks])"
   ]
  },
  {
   "cell_type": "code",
   "execution_count": null,
   "metadata": {},
   "outputs": [],
   "source": [
    "playlist_tracks"
   ]
  },
  {
   "cell_type": "markdown",
   "metadata": {},
   "source": [
    "# Return JSON data for every track on each list"
   ]
  },
  {
   "cell_type": "code",
   "execution_count": null,
   "metadata": {},
   "outputs": [],
   "source": [
    "# First element shows date for 0th element or changes playlist\n",
    "# Third element changes song within each playlist\n",
    "song_id = playlist_tracks[1][1][0][1]\n",
    "song_name = playlist_tracks[1][1][0][0]\n",
    "\n",
    "print(f'song id: {song_id}')\n",
    "print(f'song name: {song_name}')"
   ]
  },
  {
   "cell_type": "markdown",
   "metadata": {},
   "source": [
    "### Return audio feature data"
   ]
  },
  {
   "cell_type": "code",
   "execution_count": null,
   "metadata": {},
   "outputs": [],
   "source": [
    "playlist_audio_features = []\n",
    "for playlist in playlist_tracks[1:]:\n",
    "    tracks = []\n",
    "    \n",
    "    # Create list of ids for each playlist with max of 50 ids\n",
    "    id = []\n",
    "    for i in range(0, len(playlist[1])): \n",
    "        id.append(playlist[1][i][1])\n",
    "    \n",
    "    # list of playlist ids\n",
    "    tracks.append(id)\n",
    "    \n",
    "    audio_feature = sp.audio_features(tracks = tracks[0])\n",
    "    \n",
    "    # Add audio feature for song to dictionary\n",
    "    playlist_audio_features.append(audio_feature)"
   ]
  },
  {
   "cell_type": "code",
   "execution_count": null,
   "metadata": {},
   "outputs": [],
   "source": [
    "playlist_audio_features"
   ]
  },
  {
   "cell_type": "markdown",
   "metadata": {},
   "source": [
    "### Return audio analysis data"
   ]
  },
  {
   "cell_type": "code",
   "execution_count": null,
   "metadata": {},
   "outputs": [],
   "source": [
    "'''Commented out for safety'''\n",
    "\n",
    "# playlist_audio_analysis = []\n",
    "# for playlist in playlist_tracks[1:]:\n",
    "    \n",
    "#     for i in range(0, len(playlist[1])): \n",
    "#         audio_analyses = sp.audio_analysis(playlist[1][i][1])\n",
    "#         playlist_audio_analysis.append(audio_analyses)"
   ]
  },
  {
   "cell_type": "code",
   "execution_count": null,
   "metadata": {},
   "outputs": [],
   "source": [
    "playlist_audio_analysis[0]"
   ]
  },
  {
   "cell_type": "markdown",
   "metadata": {},
   "source": [
    "# Spotify Charts API"
   ]
  },
  {
   "cell_type": "code",
   "execution_count": 2,
   "metadata": {},
   "outputs": [],
   "source": [
    "from fycharts import SpotifyCharts"
   ]
  },
  {
   "cell_type": "code",
   "execution_count": null,
   "metadata": {},
   "outputs": [
    {
     "name": "stderr",
     "output_type": "stream",
     "text": [
      "INFO : 28/02/2019 11:36:01 AM : Extracting top 200 daily for 2017-05-31 - us\n"
     ]
    }
   ],
   "source": [
    "api = SpotifyCharts.SpotifyCharts()\n",
    "api.top200Daily(output_file = 'top_200_daily_.csv', start = '2017-05-31', region = 'us')"
   ]
  },
  {
   "cell_type": "code",
   "execution_count": null,
   "metadata": {},
   "outputs": [],
   "source": []
  }
 ],
 "metadata": {
  "kernelspec": {
   "display_name": "Python 3",
   "language": "python",
   "name": "python3"
  },
  "language_info": {
   "codemirror_mode": {
    "name": "ipython",
    "version": 3
   },
   "file_extension": ".py",
   "mimetype": "text/x-python",
   "name": "python",
   "nbconvert_exporter": "python",
   "pygments_lexer": "ipython3",
   "version": "3.6.5"
  }
 },
 "nbformat": 4,
 "nbformat_minor": 2
}

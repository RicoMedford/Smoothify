{
 "cells": [
  {
   "cell_type": "code",
   "execution_count": 17,
   "metadata": {},
   "outputs": [],
   "source": [
    "from sqlalchemy import create_engine\n",
    "from sqlalchemy.orm import scoped_session, sessionmaker\n",
    "from sqlalchemy.ext.declarative import declarative_base\n",
    "from flask import Flask, jsonify,render_template\n",
    "from sqlalchemy.ext.automap import automap_base\n",
    "from sqlalchemy.orm import Session\n",
    "from connections import password, client_id, client_secret\n",
    "import numpy as np\n",
    "import pymysql\n",
    "pymysql.install_as_MySQLdb()\n",
    "import requests\n",
    "import pandas as pd\n",
    "from keras.models import load_model\n",
    "import spotipy\n",
    "from spotipy.oauth2 import SpotifyClientCredentials"
   ]
  },
  {
   "cell_type": "code",
   "execution_count": 18,
   "metadata": {},
   "outputs": [],
   "source": [
    "# Client credentials\n",
    "client_credentials_manager = SpotifyClientCredentials(\n",
    "    client_id=client_id, \n",
    "    client_secret=client_secret)\n",
    "sp = spotipy.Spotify(client_credentials_manager=client_credentials_manager)"
   ]
  },
  {
   "cell_type": "code",
   "execution_count": 19,
   "metadata": {},
   "outputs": [],
   "source": [
    "top_model = load_model(\"Feature_Model_Trained.h5\")"
   ]
  },
  {
   "cell_type": "code",
   "execution_count": 20,
   "metadata": {},
   "outputs": [],
   "source": [
    "test_track = sp.audio_features('6fujklziTHa8uoM5OQSfIo')\n",
    "track_df = pd.DataFrame(test_track, index = [0])\n",
    "track_df.drop(columns = ['analysis_url', 'id', 'track_href', 'uri', 'type'], inplace = True)"
   ]
  },
  {
   "cell_type": "code",
   "execution_count": 21,
   "metadata": {},
   "outputs": [
    {
     "data": {
      "text/html": [
       "<div>\n",
       "<style scoped>\n",
       "    .dataframe tbody tr th:only-of-type {\n",
       "        vertical-align: middle;\n",
       "    }\n",
       "\n",
       "    .dataframe tbody tr th {\n",
       "        vertical-align: top;\n",
       "    }\n",
       "\n",
       "    .dataframe thead th {\n",
       "        text-align: right;\n",
       "    }\n",
       "</style>\n",
       "<table border=\"1\" class=\"dataframe\">\n",
       "  <thead>\n",
       "    <tr style=\"text-align: right;\">\n",
       "      <th></th>\n",
       "      <th>acousticness</th>\n",
       "      <th>danceability</th>\n",
       "      <th>duration_ms</th>\n",
       "      <th>energy</th>\n",
       "      <th>instrumentalness</th>\n",
       "      <th>key</th>\n",
       "      <th>liveness</th>\n",
       "      <th>loudness</th>\n",
       "      <th>mode</th>\n",
       "      <th>speechiness</th>\n",
       "      <th>tempo</th>\n",
       "      <th>time_signature</th>\n",
       "      <th>valence</th>\n",
       "    </tr>\n",
       "  </thead>\n",
       "  <tbody>\n",
       "    <tr>\n",
       "      <th>0</th>\n",
       "      <td>0.142</td>\n",
       "      <td>0.794</td>\n",
       "      <td>291893</td>\n",
       "      <td>0.632</td>\n",
       "      <td>0</td>\n",
       "      <td>0</td>\n",
       "      <td>0.128</td>\n",
       "      <td>-6.163</td>\n",
       "      <td>1</td>\n",
       "      <td>0.0649</td>\n",
       "      <td>145.926</td>\n",
       "      <td>4</td>\n",
       "      <td>0.355</td>\n",
       "    </tr>\n",
       "  </tbody>\n",
       "</table>\n",
       "</div>"
      ],
      "text/plain": [
       "   acousticness  danceability  duration_ms  energy  instrumentalness  key  \\\n",
       "0         0.142         0.794       291893   0.632                 0    0   \n",
       "\n",
       "   liveness  loudness  mode  speechiness    tempo  time_signature  valence  \n",
       "0     0.128    -6.163     1       0.0649  145.926               4    0.355  "
      ]
     },
     "execution_count": 21,
     "metadata": {},
     "output_type": "execute_result"
    }
   ],
   "source": [
    "track_df"
   ]
  },
  {
   "cell_type": "code",
   "execution_count": 22,
   "metadata": {},
   "outputs": [
    {
     "data": {
      "text/plain": [
       "{'danceability': 0.794,\n",
       " 'energy': 0.632,\n",
       " 'key': 0,\n",
       " 'loudness': -6.163,\n",
       " 'mode': 1,\n",
       " 'speechiness': 0.0649,\n",
       " 'acousticness': 0.142,\n",
       " 'instrumentalness': 0,\n",
       " 'liveness': 0.128,\n",
       " 'valence': 0.355,\n",
       " 'tempo': 145.926,\n",
       " 'type': 'audio_features',\n",
       " 'id': '6fujklziTHa8uoM5OQSfIo',\n",
       " 'uri': 'spotify:track:6fujklziTHa8uoM5OQSfIo',\n",
       " 'track_href': 'https://api.spotify.com/v1/tracks/6fujklziTHa8uoM5OQSfIo',\n",
       " 'analysis_url': 'https://api.spotify.com/v1/audio-analysis/6fujklziTHa8uoM5OQSfIo',\n",
       " 'duration_ms': 291893,\n",
       " 'time_signature': 4}"
      ]
     },
     "execution_count": 22,
     "metadata": {},
     "output_type": "execute_result"
    }
   ],
   "source": [
    "test_track[0]"
   ]
  },
  {
   "cell_type": "code",
   "execution_count": 23,
   "metadata": {},
   "outputs": [],
   "source": [
    "from sklearn.preprocessing import LabelEncoder, StandardScaler\n",
    "X_scaler = StandardScaler().fit(track_df)\n",
    "predict = X_scaler.transform(track_df)"
   ]
  },
  {
   "cell_type": "code",
   "execution_count": null,
   "metadata": {},
   "outputs": [],
   "source": []
  },
  {
   "cell_type": "code",
   "execution_count": 24,
   "metadata": {},
   "outputs": [
    {
     "data": {
      "text/plain": [
       "array([0], dtype=int64)"
      ]
     },
     "execution_count": 24,
     "metadata": {},
     "output_type": "execute_result"
    }
   ],
   "source": [
    "top_model.predict_classes(predict)"
   ]
  },
  {
   "cell_type": "code",
   "execution_count": 25,
   "metadata": {},
   "outputs": [],
   "source": [
    "# Establish SQL connection\n",
    "connection_string = (f\"root:{password}@localhost/spot_db\")\n",
    "engine = create_engine(f\"mysql://{connection_string}\")# , pool_recycle=3600, pool_pre_ping=True)\n",
    "\n",
    "# reflect an existing database into a new model\n",
    "Base = automap_base()\n",
    "# reflect the tables\n",
    "Base.prepare(engine, reflect=True)\n",
    "# Save reference to the table\n",
    "_features = Base.classes.features\n",
    "_top = Base.classes.top_200_daily\n",
    "# Create connection object\n",
    "session = Session(engine)"
   ]
  },
  {
   "cell_type": "code",
   "execution_count": 56,
   "metadata": {},
   "outputs": [
    {
     "data": {
      "text/html": [
       "<div>\n",
       "<style scoped>\n",
       "    .dataframe tbody tr th:only-of-type {\n",
       "        vertical-align: middle;\n",
       "    }\n",
       "\n",
       "    .dataframe tbody tr th {\n",
       "        vertical-align: top;\n",
       "    }\n",
       "\n",
       "    .dataframe thead th {\n",
       "        text-align: right;\n",
       "    }\n",
       "</style>\n",
       "<table border=\"1\" class=\"dataframe\">\n",
       "  <thead>\n",
       "    <tr style=\"text-align: right;\">\n",
       "      <th></th>\n",
       "      <th>Acousticness</th>\n",
       "      <th>Danceability</th>\n",
       "      <th>Duration_ms</th>\n",
       "      <th>Energy</th>\n",
       "      <th>Instrumentalness</th>\n",
       "      <th>Key</th>\n",
       "      <th>Liveness</th>\n",
       "      <th>Loudness</th>\n",
       "      <th>Mode</th>\n",
       "      <th>Speechiness</th>\n",
       "      <th>Tempo</th>\n",
       "      <th>Time_Signature</th>\n",
       "      <th>Valence</th>\n",
       "    </tr>\n",
       "  </thead>\n",
       "  <tbody>\n",
       "    <tr>\n",
       "      <th>0</th>\n",
       "      <td>0.131</td>\n",
       "      <td>0.748</td>\n",
       "      <td>188491</td>\n",
       "      <td>0.627</td>\n",
       "      <td>0.0</td>\n",
       "      <td>7</td>\n",
       "      <td>0.0852</td>\n",
       "      <td>-6.029</td>\n",
       "      <td>1</td>\n",
       "      <td>0.0644</td>\n",
       "      <td>120.963</td>\n",
       "      <td>4</td>\n",
       "      <td>0.524</td>\n",
       "    </tr>\n",
       "  </tbody>\n",
       "</table>\n",
       "</div>"
      ],
      "text/plain": [
       "   Acousticness  Danceability  Duration_ms  Energy  Instrumentalness  Key  \\\n",
       "0         0.131         0.748       188491   0.627               0.0    7   \n",
       "\n",
       "   Liveness  Loudness  Mode  Speechiness    Tempo  Time_Signature  Valence  \n",
       "0    0.0852    -6.029     1       0.0644  120.963               4    0.524  "
      ]
     },
     "execution_count": 56,
     "metadata": {},
     "output_type": "execute_result"
    }
   ],
   "source": [
    "features = pd.read_sql(session.query(_features).statement, session.bind)\n",
    "\n",
    "X = features.drop(['index', 'ID'], axis = 1)\n",
    "X.head(1)"
   ]
  },
  {
   "cell_type": "code",
   "execution_count": 57,
   "metadata": {},
   "outputs": [],
   "source": [
    "features_unindex = features.drop('index', axis = 1)\n",
    "features_unindex.to_csv('features.csv')"
   ]
  },
  {
   "cell_type": "code",
   "execution_count": 47,
   "metadata": {},
   "outputs": [],
   "source": [
    "X_scaler = StandardScaler().fit(X)\n",
    "predict = X_scaler.transform(X)"
   ]
  },
  {
   "cell_type": "code",
   "execution_count": 48,
   "metadata": {},
   "outputs": [],
   "source": [
    "normal_predict = pd.DataFrame(predict)"
   ]
  },
  {
   "cell_type": "code",
   "execution_count": 52,
   "metadata": {},
   "outputs": [
    {
     "data": {
      "text/plain": [
       "array([0], dtype=int64)"
      ]
     },
     "execution_count": 52,
     "metadata": {},
     "output_type": "execute_result"
    }
   ],
   "source": [
    "# for feature in array:\n",
    "results = top_model.predict_classes(x = X)\n",
    "np.unique(results)"
   ]
  },
  {
   "cell_type": "code",
   "execution_count": 53,
   "metadata": {},
   "outputs": [
    {
     "name": "stdout",
     "output_type": "stream",
     "text": [
      " 0: 11720 | 1: 0\n"
     ]
    }
   ],
   "source": [
    "count_0 = 0\n",
    "count_1 = 0\n",
    "for result in results:\n",
    "    if result == 0:\n",
    "        count_0 += 1\n",
    "    else:\n",
    "        count_1 += 1\n",
    "print(f\" 0: {count_0} | 1: {count_1}\")"
   ]
  },
  {
   "cell_type": "code",
   "execution_count": 42,
   "metadata": {},
   "outputs": [],
   "source": [
    "X = X.iloc[0]"
   ]
  }
 ],
 "metadata": {
  "kernelspec": {
   "display_name": "Python 3",
   "language": "python",
   "name": "python3"
  },
  "language_info": {
   "codemirror_mode": {
    "name": "ipython",
    "version": 3
   },
   "file_extension": ".py",
   "mimetype": "text/x-python",
   "name": "python",
   "nbconvert_exporter": "python",
   "pygments_lexer": "ipython3",
   "version": "3.6.5"
  }
 },
 "nbformat": 4,
 "nbformat_minor": 2
}

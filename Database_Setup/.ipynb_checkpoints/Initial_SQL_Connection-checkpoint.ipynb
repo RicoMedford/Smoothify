{
 "cells": [
  {
   "cell_type": "code",
   "execution_count": 4,
   "metadata": {},
   "outputs": [],
   "source": [
    "import pandas as pd\n",
    "from sqlalchemy import create_engine\n",
    "from sqlalchemy import types\n",
    "import pymysql\n",
    "pymysql.install_as_MySQLdb()\n",
    "\n",
    "import os\n",
    "import sys\n",
    "sys.path\n",
    "sys.path.append('../')\n",
    "sys.path.append('spotify-chart')\n",
    "import connections\n",
    "import charts"
   ]
  },
  {
   "cell_type": "markdown",
   "metadata": {},
   "source": [
    "## Top 200 Daily"
   ]
  },
  {
   "cell_type": "code",
   "execution_count": null,
   "metadata": {},
   "outputs": [],
   "source": [
    "daily_charts = charts.get_charts('2017-01-01', '2019-02-28', freq = 'daily', region = 'us')\n",
    "top_200_daily = pd.DataFrame(daily_charts)"
   ]
  },
  {
   "cell_type": "code",
   "execution_count": null,
   "metadata": {},
   "outputs": [
    {
     "name": "stderr",
     "output_type": "stream",
     "text": [
      " 19%|███████████████                                                                 | 149/789 [03:52<16:10,  1.52s/it]"
     ]
    },
    {
     "name": "stdout",
     "output_type": "stream",
     "text": [
      "<_io.StringIO object at 0x0000016B4C83E798>\n"
     ]
    },
    {
     "name": "stderr",
     "output_type": "stream",
     "text": [
      " 19%|███████████████▏                                                                | 150/789 [03:52<12:53,  1.21s/it]"
     ]
    },
    {
     "name": "stdout",
     "output_type": "stream",
     "text": [
      "<_io.StringIO object at 0x0000016B4C83E048>\n"
     ]
    },
    {
     "name": "stderr",
     "output_type": "stream",
     "text": [
      " 19%|███████████████▍                                                                | 152/789 [03:54<11:52,  1.12s/it]"
     ]
    },
    {
     "name": "stdout",
     "output_type": "stream",
     "text": [
      "<_io.StringIO object at 0x0000016B4C83E048>\n"
     ]
    },
    {
     "name": "stderr",
     "output_type": "stream",
     "text": [
      " 35%|████████████████████████████▍                                                   | 280/789 [07:10<12:41,  1.50s/it]"
     ]
    }
   ],
   "source": [
    "top_200_daily.drop(columns = 'Unnamed: 0', inplace = True)\n",
    "# top_200_weekly.rename(columns = {'Unnamed: 0':'index'}, inplace = True)\n",
    "top_200_daily.rename(columns = {'Track Name':'Track'}, inplace = True)\n",
    "\n",
    "top_200_daily['ID'] = top_200_daily['URL'].str.split('/', expand = True)[4]\n",
    "\n",
    "# top 200 db export\n",
    "top_200_db = top_200_daily[['Position', 'date', 'ID']]\n",
    "top_200_db.head()"
   ]
  },
  {
   "cell_type": "markdown",
   "metadata": {},
   "source": [
    "## Viral 50 Daily"
   ]
  },
  {
   "cell_type": "code",
   "execution_count": null,
   "metadata": {},
   "outputs": [],
   "source": [
    "viral_charts = charts.get_charts('2017-01-01', '2019-02-28', chart = 'viral', freq = 'daily', region = 'us')\n",
    "viral_50_daily = pd.DataFrame(viral_charts)"
   ]
  },
  {
   "cell_type": "code",
   "execution_count": null,
   "metadata": {},
   "outputs": [],
   "source": [
    "viral_50_daily.drop(columns = 'Unnamed: 0', inplace = True)\n",
    "# top_200_weekly.rename(columns = {'Unnamed: 0':'index'}, inplace = True)\n",
    "viral_50_daily.rename(columns = {'Track Name':'Track'}, inplace = True)\n",
    "\n",
    "viral_50_daily['ID'] = viral_50_daily['URL'].str.split('/', expand = True)[4]\n",
    "\n",
    "# top 200 db export\n",
    "viral_50_db = viral_50_daily[['Position', 'date', 'ID']]\n",
    "viral_50_db.head()"
   ]
  },
  {
   "cell_type": "markdown",
   "metadata": {},
   "source": [
    "## Unique Songs"
   ]
  },
  {
   "cell_type": "code",
   "execution_count": 3,
   "metadata": {},
   "outputs": [
    {
     "ename": "NameError",
     "evalue": "name 'viral_50_daily' is not defined",
     "output_type": "error",
     "traceback": [
      "\u001b[1;31m---------------------------------------------------------------------------\u001b[0m",
      "\u001b[1;31mNameError\u001b[0m                                 Traceback (most recent call last)",
      "\u001b[1;32m<ipython-input-3-311b1eb62e21>\u001b[0m in \u001b[0;36m<module>\u001b[1;34m()\u001b[0m\n\u001b[1;32m----> 1\u001b[1;33m \u001b[0munique_songs\u001b[0m \u001b[1;33m=\u001b[0m \u001b[0mviral_50_daily\u001b[0m\u001b[1;33m.\u001b[0m\u001b[0mdrop_duplicates\u001b[0m\u001b[1;33m(\u001b[0m\u001b[1;34m'ID'\u001b[0m\u001b[1;33m)\u001b[0m\u001b[1;33m[\u001b[0m\u001b[1;33m[\u001b[0m\u001b[1;34m'ID'\u001b[0m\u001b[1;33m,\u001b[0m \u001b[1;34m'Track'\u001b[0m\u001b[1;33m,\u001b[0m \u001b[1;34m'Artist'\u001b[0m\u001b[1;33m]\u001b[0m\u001b[1;33m]\u001b[0m\u001b[1;33m\u001b[0m\u001b[0m\n\u001b[0m\u001b[0;32m      2\u001b[0m \u001b[0munique_songs\u001b[0m\u001b[1;33m.\u001b[0m\u001b[0mhead\u001b[0m\u001b[1;33m(\u001b[0m\u001b[1;33m)\u001b[0m\u001b[1;33m\u001b[0m\u001b[0m\n",
      "\u001b[1;31mNameError\u001b[0m: name 'viral_50_daily' is not defined"
     ]
    }
   ],
   "source": [
    "unique_songs = viral_50_daily.drop_duplicates('ID')[['ID', 'Track', 'Artist']]\n",
    "unique_songs.head()"
   ]
  },
  {
   "cell_type": "markdown",
   "metadata": {},
   "source": [
    "## Features"
   ]
  },
  {
   "cell_type": "code",
   "execution_count": 27,
   "metadata": {},
   "outputs": [],
   "source": []
  },
  {
   "cell_type": "code",
   "execution_count": null,
   "metadata": {},
   "outputs": [],
   "source": []
  },
  {
   "cell_type": "markdown",
   "metadata": {},
   "source": [
    "# Export Song Tables to SQL"
   ]
  },
  {
   "cell_type": "code",
   "execution_count": 29,
   "metadata": {},
   "outputs": [],
   "source": [
    "connection_string = (f\"root:{password}@localhost\")\n",
    "\n",
    "engine = create_engine(f\"mysql://{connection_string}\")\n",
    "engine.execute(\"DROP DATABASE IF EXISTS spot_db\")\n",
    "engine.execute(\"CREATE DATABASE spot_db\")\n",
    "engine.execute(\"ALTER DATABASE spot_db CHARACTER SET = utf8mb4 COLLATE = utf8mb4_unicode_ci\")\n",
    "# engine.execute(\"ALTER TABLE indeed_resumes CONVERT TO CHARACTER SET utf8mb4 COLLATE utf8mb4_unicode_ci;\")\n",
    "engine = create_engine(f\"mysql://{connection_string}/spot_db?charset=utf8mb4\")"
   ]
  },
  {
   "cell_type": "code",
   "execution_count": 30,
   "metadata": {},
   "outputs": [],
   "source": [
    "# Top 200 Daily\n",
    "engine.execute(\"USE spot_db\")\n",
    "top_200_db.to_sql(\n",
    "    name = 'top_200_daily', con = engine,\n",
    "    if_exists = 'replace')\n",
    "with engine.connect() as con:\n",
    "    con.execute('ALTER TABLE `top_200_daily` ADD PRIMARY KEY (`Index`);')"
   ]
  },
  {
   "cell_type": "code",
   "execution_count": 31,
   "metadata": {},
   "outputs": [],
   "source": [
    "# Viral 50 Daily\n",
    "engine.execute(\"USE spot_db\")\n",
    "viral_50_db.to_sql(\n",
    "    name = 'viral_50_daily', con = engine,\n",
    "    if_exists = 'replace')\n",
    "with engine.connect() as con:\n",
    "    con.execute('ALTER TABLE `viral_50_daily` ADD PRIMARY KEY (`Index`);')"
   ]
  },
  {
   "cell_type": "code",
   "execution_count": 60,
   "metadata": {},
   "outputs": [],
   "source": [
    "# Unique Songs\n",
    "engine.execute(\"USE spot_db\")\n",
    "unique_songs.to_sql(\n",
    "    name = 'songs', con = engine,\n",
    "    if_exists = 'replace', \n",
    "    dtype={'ID': types.VARCHAR(255)})\n",
    "with engine.connect() as con:\n",
    "    con.execute('ALTER TABLE `songs` ADD PRIMARY KEY (`Id`);')"
   ]
  }
 ],
 "metadata": {
  "kernelspec": {
   "display_name": "Python 3",
   "language": "python",
   "name": "python3"
  },
  "language_info": {
   "codemirror_mode": {
    "name": "ipython",
    "version": 3
   },
   "file_extension": ".py",
   "mimetype": "text/x-python",
   "name": "python",
   "nbconvert_exporter": "python",
   "pygments_lexer": "ipython3",
   "version": "3.6.5"
  }
 },
 "nbformat": 4,
 "nbformat_minor": 2
}

{
 "cells": [
  {
   "cell_type": "markdown",
   "metadata": {},
   "source": [
    "# Will a Viral Song Enter the Top 200 Streamed Tracks?"
   ]
  },
  {
   "cell_type": "code",
   "execution_count": 128,
   "metadata": {},
   "outputs": [],
   "source": [
    "import numpy as np\n",
    "import pandas as pd\n",
    "\n",
    "from sqlalchemy import create_engine\n",
    "from sqlalchemy import types\n",
    "import pymysql\n",
    "pymysql.install_as_MySQLdb()\n",
    "from sqlalchemy.ext.automap import automap_base\n",
    "from sqlalchemy.orm import Session\n",
    "\n",
    "from connections import password"
   ]
  },
  {
   "cell_type": "markdown",
   "metadata": {},
   "source": [
    "# Data Import"
   ]
  },
  {
   "cell_type": "code",
   "execution_count": 129,
   "metadata": {},
   "outputs": [],
   "source": [
    "# Establish SQL connection\n",
    "connection_string = (f\"root:{password}@localhost/spot_db\")\n",
    "engine = create_engine(f\"mysql://{connection_string}\")# , pool_recycle=3600, pool_pre_ping=True)\n",
    "\n",
    "# reflect an existing database into a new model\n",
    "Base = automap_base()\n",
    "# reflect the tables\n",
    "Base.prepare(engine, reflect=True)\n",
    "# Save reference to the table\n",
    "_features = Base.classes.features\n",
    "_top = Base.classes.top_200_daily\n",
    "# Create connection object\n",
    "session = Session(engine)"
   ]
  },
  {
   "cell_type": "code",
   "execution_count": 130,
   "metadata": {},
   "outputs": [],
   "source": [
    "features = pd.read_sql(session.query(_features).statement, session.bind)"
   ]
  },
  {
   "cell_type": "code",
   "execution_count": 131,
   "metadata": {},
   "outputs": [],
   "source": [
    "top = pd.read_sql(session.query(_top).statement, session.bind)"
   ]
  },
  {
   "cell_type": "markdown",
   "metadata": {},
   "source": [
    "# Data Pre-Processing"
   ]
  },
  {
   "cell_type": "code",
   "execution_count": 132,
   "metadata": {},
   "outputs": [
    {
     "data": {
      "text/html": [
       "<div>\n",
       "<style scoped>\n",
       "    .dataframe tbody tr th:only-of-type {\n",
       "        vertical-align: middle;\n",
       "    }\n",
       "\n",
       "    .dataframe tbody tr th {\n",
       "        vertical-align: top;\n",
       "    }\n",
       "\n",
       "    .dataframe thead th {\n",
       "        text-align: right;\n",
       "    }\n",
       "</style>\n",
       "<table border=\"1\" class=\"dataframe\">\n",
       "  <thead>\n",
       "    <tr style=\"text-align: right;\">\n",
       "      <th></th>\n",
       "      <th>index</th>\n",
       "      <th>Acousticness</th>\n",
       "      <th>Danceability</th>\n",
       "      <th>Duration_ms</th>\n",
       "      <th>Energy</th>\n",
       "      <th>ID</th>\n",
       "      <th>Instrumentalness</th>\n",
       "      <th>Key</th>\n",
       "      <th>Liveness</th>\n",
       "      <th>Loudness</th>\n",
       "      <th>Mode</th>\n",
       "      <th>Speechiness</th>\n",
       "      <th>Tempo</th>\n",
       "      <th>Time_Signature</th>\n",
       "      <th>Valence</th>\n",
       "      <th>label</th>\n",
       "    </tr>\n",
       "  </thead>\n",
       "  <tbody>\n",
       "    <tr>\n",
       "      <th>0</th>\n",
       "      <td>1560</td>\n",
       "      <td>0.13100</td>\n",
       "      <td>0.748</td>\n",
       "      <td>188491</td>\n",
       "      <td>0.627</td>\n",
       "      <td>000xQL6tZNLJzIrtIgxqSl</td>\n",
       "      <td>0.00000</td>\n",
       "      <td>7</td>\n",
       "      <td>0.0852</td>\n",
       "      <td>-6.029</td>\n",
       "      <td>1</td>\n",
       "      <td>0.0644</td>\n",
       "      <td>120.963</td>\n",
       "      <td>4</td>\n",
       "      <td>0.524</td>\n",
       "      <td>True</td>\n",
       "    </tr>\n",
       "    <tr>\n",
       "      <th>1</th>\n",
       "      <td>6494</td>\n",
       "      <td>0.08220</td>\n",
       "      <td>0.353</td>\n",
       "      <td>193680</td>\n",
       "      <td>0.755</td>\n",
       "      <td>003eoIwxETJujVWmNFMoZy</td>\n",
       "      <td>0.00000</td>\n",
       "      <td>1</td>\n",
       "      <td>0.3900</td>\n",
       "      <td>-6.276</td>\n",
       "      <td>0</td>\n",
       "      <td>0.7330</td>\n",
       "      <td>191.153</td>\n",
       "      <td>4</td>\n",
       "      <td>0.437</td>\n",
       "      <td>True</td>\n",
       "    </tr>\n",
       "    <tr>\n",
       "      <th>2</th>\n",
       "      <td>1345</td>\n",
       "      <td>0.00239</td>\n",
       "      <td>0.588</td>\n",
       "      <td>262347</td>\n",
       "      <td>0.885</td>\n",
       "      <td>004S8bMhFQjnbuqvdh6W71</td>\n",
       "      <td>0.00246</td>\n",
       "      <td>9</td>\n",
       "      <td>0.0862</td>\n",
       "      <td>-6.267</td>\n",
       "      <td>0</td>\n",
       "      <td>0.0654</td>\n",
       "      <td>149.031</td>\n",
       "      <td>4</td>\n",
       "      <td>0.928</td>\n",
       "      <td>False</td>\n",
       "    </tr>\n",
       "    <tr>\n",
       "      <th>3</th>\n",
       "      <td>7841</td>\n",
       "      <td>0.00304</td>\n",
       "      <td>0.619</td>\n",
       "      <td>218747</td>\n",
       "      <td>0.762</td>\n",
       "      <td>007d7JT41sSc1HqWTs4uw7</td>\n",
       "      <td>0.00000</td>\n",
       "      <td>0</td>\n",
       "      <td>0.1220</td>\n",
       "      <td>-6.738</td>\n",
       "      <td>0</td>\n",
       "      <td>0.0692</td>\n",
       "      <td>122.916</td>\n",
       "      <td>4</td>\n",
       "      <td>0.324</td>\n",
       "      <td>True</td>\n",
       "    </tr>\n",
       "    <tr>\n",
       "      <th>4</th>\n",
       "      <td>5989</td>\n",
       "      <td>0.28700</td>\n",
       "      <td>0.620</td>\n",
       "      <td>284856</td>\n",
       "      <td>0.625</td>\n",
       "      <td>00B7TZ0Xawar6NZ00JFomN</td>\n",
       "      <td>0.00000</td>\n",
       "      <td>9</td>\n",
       "      <td>0.3140</td>\n",
       "      <td>-7.438</td>\n",
       "      <td>1</td>\n",
       "      <td>0.5530</td>\n",
       "      <td>167.911</td>\n",
       "      <td>4</td>\n",
       "      <td>0.665</td>\n",
       "      <td>True</td>\n",
       "    </tr>\n",
       "  </tbody>\n",
       "</table>\n",
       "</div>"
      ],
      "text/plain": [
       "   index  Acousticness  Danceability  Duration_ms  Energy  \\\n",
       "0   1560       0.13100         0.748       188491   0.627   \n",
       "1   6494       0.08220         0.353       193680   0.755   \n",
       "2   1345       0.00239         0.588       262347   0.885   \n",
       "3   7841       0.00304         0.619       218747   0.762   \n",
       "4   5989       0.28700         0.620       284856   0.625   \n",
       "\n",
       "                       ID  Instrumentalness  Key  Liveness  Loudness  Mode  \\\n",
       "0  000xQL6tZNLJzIrtIgxqSl           0.00000    7    0.0852    -6.029     1   \n",
       "1  003eoIwxETJujVWmNFMoZy           0.00000    1    0.3900    -6.276     0   \n",
       "2  004S8bMhFQjnbuqvdh6W71           0.00246    9    0.0862    -6.267     0   \n",
       "3  007d7JT41sSc1HqWTs4uw7           0.00000    0    0.1220    -6.738     0   \n",
       "4  00B7TZ0Xawar6NZ00JFomN           0.00000    9    0.3140    -7.438     1   \n",
       "\n",
       "   Speechiness    Tempo  Time_Signature  Valence  label  \n",
       "0       0.0644  120.963               4    0.524   True  \n",
       "1       0.7330  191.153               4    0.437   True  \n",
       "2       0.0654  149.031               4    0.928  False  \n",
       "3       0.0692  122.916               4    0.324   True  \n",
       "4       0.5530  167.911               4    0.665   True  "
      ]
     },
     "execution_count": 132,
     "metadata": {},
     "output_type": "execute_result"
    }
   ],
   "source": [
    "features['label'] = features.ID.isin(top.ID)\n",
    "features.head()"
   ]
  },
  {
   "cell_type": "code",
   "execution_count": 133,
   "metadata": {},
   "outputs": [
    {
     "data": {
      "text/html": [
       "<div>\n",
       "<style scoped>\n",
       "    .dataframe tbody tr th:only-of-type {\n",
       "        vertical-align: middle;\n",
       "    }\n",
       "\n",
       "    .dataframe tbody tr th {\n",
       "        vertical-align: top;\n",
       "    }\n",
       "\n",
       "    .dataframe thead th {\n",
       "        text-align: right;\n",
       "    }\n",
       "</style>\n",
       "<table border=\"1\" class=\"dataframe\">\n",
       "  <thead>\n",
       "    <tr style=\"text-align: right;\">\n",
       "      <th></th>\n",
       "      <th>index</th>\n",
       "      <th>Acousticness</th>\n",
       "      <th>Danceability</th>\n",
       "      <th>Duration_ms</th>\n",
       "      <th>Energy</th>\n",
       "      <th>ID</th>\n",
       "      <th>Instrumentalness</th>\n",
       "      <th>Key</th>\n",
       "      <th>Liveness</th>\n",
       "      <th>Loudness</th>\n",
       "      <th>Mode</th>\n",
       "      <th>Speechiness</th>\n",
       "      <th>Tempo</th>\n",
       "      <th>Time_Signature</th>\n",
       "      <th>Valence</th>\n",
       "      <th>label</th>\n",
       "    </tr>\n",
       "  </thead>\n",
       "  <tbody>\n",
       "    <tr>\n",
       "      <th>11715</th>\n",
       "      <td>8088</td>\n",
       "      <td>0.00898</td>\n",
       "      <td>0.612</td>\n",
       "      <td>188253</td>\n",
       "      <td>0.799</td>\n",
       "      <td>7zVCrzzEJU7u24sbJPXA5W</td>\n",
       "      <td>0.000000</td>\n",
       "      <td>10</td>\n",
       "      <td>0.1720</td>\n",
       "      <td>-4.603</td>\n",
       "      <td>1</td>\n",
       "      <td>0.0275</td>\n",
       "      <td>125.976</td>\n",
       "      <td>4</td>\n",
       "      <td>0.687</td>\n",
       "      <td>True</td>\n",
       "    </tr>\n",
       "    <tr>\n",
       "      <th>11716</th>\n",
       "      <td>268</td>\n",
       "      <td>0.07950</td>\n",
       "      <td>0.717</td>\n",
       "      <td>196173</td>\n",
       "      <td>0.587</td>\n",
       "      <td>7zvKFw17XyoBUx9mHiwzPy</td>\n",
       "      <td>0.000019</td>\n",
       "      <td>7</td>\n",
       "      <td>0.1920</td>\n",
       "      <td>-8.970</td>\n",
       "      <td>1</td>\n",
       "      <td>0.3680</td>\n",
       "      <td>112.440</td>\n",
       "      <td>5</td>\n",
       "      <td>0.336</td>\n",
       "      <td>False</td>\n",
       "    </tr>\n",
       "    <tr>\n",
       "      <th>11717</th>\n",
       "      <td>972</td>\n",
       "      <td>0.63500</td>\n",
       "      <td>0.415</td>\n",
       "      <td>276875</td>\n",
       "      <td>0.415</td>\n",
       "      <td>7zxrA6P9OWCc1nXF6GGLIp</td>\n",
       "      <td>0.005210</td>\n",
       "      <td>10</td>\n",
       "      <td>0.0874</td>\n",
       "      <td>-10.784</td>\n",
       "      <td>0</td>\n",
       "      <td>0.0501</td>\n",
       "      <td>139.822</td>\n",
       "      <td>5</td>\n",
       "      <td>0.179</td>\n",
       "      <td>False</td>\n",
       "    </tr>\n",
       "    <tr>\n",
       "      <th>11718</th>\n",
       "      <td>1072</td>\n",
       "      <td>0.10500</td>\n",
       "      <td>0.748</td>\n",
       "      <td>179773</td>\n",
       "      <td>0.723</td>\n",
       "      <td>7zxRMhXxJMQCeDDg0rKAVo</td>\n",
       "      <td>0.000000</td>\n",
       "      <td>0</td>\n",
       "      <td>0.0949</td>\n",
       "      <td>-6.213</td>\n",
       "      <td>1</td>\n",
       "      <td>0.3470</td>\n",
       "      <td>154.966</td>\n",
       "      <td>4</td>\n",
       "      <td>0.350</td>\n",
       "      <td>True</td>\n",
       "    </tr>\n",
       "    <tr>\n",
       "      <th>11719</th>\n",
       "      <td>4659</td>\n",
       "      <td>0.06920</td>\n",
       "      <td>0.863</td>\n",
       "      <td>246009</td>\n",
       "      <td>0.609</td>\n",
       "      <td>7zyHb6wrRALMIyCZgwLw5u</td>\n",
       "      <td>0.000000</td>\n",
       "      <td>10</td>\n",
       "      <td>0.1410</td>\n",
       "      <td>-3.556</td>\n",
       "      <td>1</td>\n",
       "      <td>0.2700</td>\n",
       "      <td>115.054</td>\n",
       "      <td>4</td>\n",
       "      <td>0.701</td>\n",
       "      <td>False</td>\n",
       "    </tr>\n",
       "  </tbody>\n",
       "</table>\n",
       "</div>"
      ],
      "text/plain": [
       "       index  Acousticness  Danceability  Duration_ms  Energy  \\\n",
       "11715   8088       0.00898         0.612       188253   0.799   \n",
       "11716    268       0.07950         0.717       196173   0.587   \n",
       "11717    972       0.63500         0.415       276875   0.415   \n",
       "11718   1072       0.10500         0.748       179773   0.723   \n",
       "11719   4659       0.06920         0.863       246009   0.609   \n",
       "\n",
       "                           ID  Instrumentalness  Key  Liveness  Loudness  \\\n",
       "11715  7zVCrzzEJU7u24sbJPXA5W          0.000000   10    0.1720    -4.603   \n",
       "11716  7zvKFw17XyoBUx9mHiwzPy          0.000019    7    0.1920    -8.970   \n",
       "11717  7zxrA6P9OWCc1nXF6GGLIp          0.005210   10    0.0874   -10.784   \n",
       "11718  7zxRMhXxJMQCeDDg0rKAVo          0.000000    0    0.0949    -6.213   \n",
       "11719  7zyHb6wrRALMIyCZgwLw5u          0.000000   10    0.1410    -3.556   \n",
       "\n",
       "       Mode  Speechiness    Tempo  Time_Signature  Valence  label  \n",
       "11715     1       0.0275  125.976               4    0.687   True  \n",
       "11716     1       0.3680  112.440               5    0.336  False  \n",
       "11717     0       0.0501  139.822               5    0.179  False  \n",
       "11718     1       0.3470  154.966               4    0.350   True  \n",
       "11719     1       0.2700  115.054               4    0.701  False  "
      ]
     },
     "execution_count": 133,
     "metadata": {},
     "output_type": "execute_result"
    }
   ],
   "source": [
    "features.tail()"
   ]
  },
  {
   "cell_type": "code",
   "execution_count": 134,
   "metadata": {},
   "outputs": [],
   "source": [
    "X = features.drop(['label', 'index', 'ID'], axis = 1)\n",
    "y = features['label']"
   ]
  },
  {
   "cell_type": "code",
   "execution_count": 135,
   "metadata": {},
   "outputs": [],
   "source": [
    "from sklearn.model_selection import train_test_split\n",
    "from sklearn.preprocessing import LabelEncoder, StandardScaler\n",
    "from keras.utils import to_categorical"
   ]
  },
  {
   "cell_type": "code",
   "execution_count": 136,
   "metadata": {},
   "outputs": [],
   "source": [
    "X_train, X_test, y_train, y_test = train_test_split(\n",
    "    X, y, random_state = 1, stratify = y)\n",
    "X_scaler = StandardScaler().fit(X_train)\n",
    "X_train_scaled = X_scaler.transform(X_train)\n",
    "X_test_scaled = X_scaler.transform(X_test)\n",
    "\n",
    "# Label-encode dataset\n",
    "label_encoder = LabelEncoder()\n",
    "label_encoder.fit(y_train)\n",
    "encoded_y_train = label_encoder.transform(y_train)\n",
    "encoded_y_test = label_encoder.transform(y_test)\n",
    "\n",
    "# Convert encoded labels to one-hot-encodeing\n",
    "\n",
    "\n",
    "y_train_categorical = to_categorical(encoded_y_train)\n",
    "y_test_categorical = to_categorical(encoded_y_test)"
   ]
  },
  {
   "cell_type": "markdown",
   "metadata": {},
   "source": [
    "# Create Deep Learning Model"
   ]
  },
  {
   "cell_type": "code",
   "execution_count": 137,
   "metadata": {},
   "outputs": [],
   "source": [
    "from keras.models import Sequential\n",
    "from keras.layers import Dense"
   ]
  },
  {
   "cell_type": "markdown",
   "metadata": {},
   "source": [
    "### Viral and Top Model"
   ]
  },
  {
   "cell_type": "code",
   "execution_count": 151,
   "metadata": {},
   "outputs": [],
   "source": [
    "# # Create model and add layers\n",
    "# model = Sequential()\n",
    "# model.add(Dense(units=5, activation='relu', input_dim=13))\n",
    "# # model.add(Dense(units=4, activation='relu'))\n",
    "# model.add(Dense(units=2, activation='softmax'))"
   ]
  },
  {
   "cell_type": "code",
   "execution_count": 174,
   "metadata": {},
   "outputs": [
    {
     "data": {
      "text/plain": [
       "array([-0.10316787,  1.34263848, -1.26436601, -0.27601791, -0.30195312,\n",
       "        0.20132525, -0.30861145,  0.23329864, -1.25546869,  0.36569025,\n",
       "       -0.06113256,  0.15080498, -0.07672952])"
      ]
     },
     "execution_count": 174,
     "metadata": {},
     "output_type": "execute_result"
    }
   ],
   "source": [
    "X_train_scaled[0]"
   ]
  },
  {
   "cell_type": "markdown",
   "metadata": {},
   "source": [
    "### Genre and Top Model"
   ]
  },
  {
   "cell_type": "code",
   "execution_count": 167,
   "metadata": {},
   "outputs": [],
   "source": [
    "# Create model and add layers\n",
    "model = Sequential()\n",
    "model.add(Dense(units=20, activation='relu', input_dim=13))\n",
    "model.add(Dense(units=10, activation='relu'))\n",
    "model.add(Dense(units=2, activation='softmax'))"
   ]
  },
  {
   "cell_type": "code",
   "execution_count": 168,
   "metadata": {},
   "outputs": [
    {
     "name": "stdout",
     "output_type": "stream",
     "text": [
      "Epoch 1/20\n",
      " - 1s - loss: 0.7232 - acc: 0.5625\n",
      "Epoch 2/20\n",
      " - 0s - loss: 0.5925 - acc: 0.6861\n",
      "Epoch 3/20\n",
      " - 0s - loss: 0.5815 - acc: 0.6966\n",
      "Epoch 4/20\n",
      " - 0s - loss: 0.5762 - acc: 0.6997\n",
      "Epoch 5/20\n",
      " - 0s - loss: 0.5718 - acc: 0.7019\n",
      "Epoch 6/20\n",
      " - 0s - loss: 0.5687 - acc: 0.7025\n",
      "Epoch 7/20\n",
      " - 0s - loss: 0.5658 - acc: 0.7058\n",
      "Epoch 8/20\n",
      " - 0s - loss: 0.5646 - acc: 0.7064\n",
      "Epoch 9/20\n",
      " - 0s - loss: 0.5623 - acc: 0.7044\n",
      "Epoch 10/20\n",
      " - 0s - loss: 0.5611 - acc: 0.7068\n",
      "Epoch 11/20\n",
      " - 0s - loss: 0.5596 - acc: 0.7081\n",
      "Epoch 12/20\n",
      " - 0s - loss: 0.5585 - acc: 0.7082\n",
      "Epoch 13/20\n",
      " - 0s - loss: 0.5579 - acc: 0.7075\n",
      "Epoch 14/20\n",
      " - 0s - loss: 0.5570 - acc: 0.7085\n",
      "Epoch 15/20\n",
      " - 0s - loss: 0.5556 - acc: 0.7104\n",
      "Epoch 16/20\n",
      " - 0s - loss: 0.5558 - acc: 0.7073\n",
      "Epoch 17/20\n",
      " - 0s - loss: 0.5538 - acc: 0.7126\n",
      "Epoch 18/20\n",
      " - 0s - loss: 0.5533 - acc: 0.7097\n",
      "Epoch 19/20\n",
      " - 0s - loss: 0.5522 - acc: 0.7121\n",
      "Epoch 20/20\n",
      " - 0s - loss: 0.5517 - acc: 0.7131\n"
     ]
    },
    {
     "data": {
      "text/plain": [
       "<keras.callbacks.History at 0x1bddba5ef28>"
      ]
     },
     "execution_count": 168,
     "metadata": {},
     "output_type": "execute_result"
    }
   ],
   "source": [
    "# Compile and fit the model\n",
    "model.compile(optimizer = 'adam',\n",
    "             loss = 'categorical_crossentropy',\n",
    "             metrics = ['accuracy'])\n",
    "model.fit(X_train_scaled, \n",
    "         y_train_categorical,\n",
    "         epochs = 20,\n",
    "         shuffle = True,\n",
    "         verbose = 2)"
   ]
  },
  {
   "cell_type": "markdown",
   "metadata": {},
   "source": [
    "# Performance"
   ]
  },
  {
   "cell_type": "code",
   "execution_count": 169,
   "metadata": {},
   "outputs": [
    {
     "name": "stdout",
     "output_type": "stream",
     "text": [
      "Normal Neural Network - Loss: 0.564079308102969, Accuracy: 0.7112627985534408\n"
     ]
    }
   ],
   "source": [
    "model_loss, model_accuracy = model.evaluate(\n",
    "    X_test_scaled, y_test_categorical, verbose=2)\n",
    "print(\n",
    "    f\"Normal Neural Network - Loss: {model_loss}, Accuracy: {model_accuracy}\")"
   ]
  },
  {
   "cell_type": "markdown",
   "metadata": {},
   "source": [
    "# Prediction Test"
   ]
  },
  {
   "cell_type": "code",
   "execution_count": 170,
   "metadata": {},
   "outputs": [
    {
     "name": "stdout",
     "output_type": "stream",
     "text": [
      "Predicted classes: [False False False  True False]\n",
      "Actual Labels:     [False, True, True, True, False]\n"
     ]
    },
    {
     "name": "stderr",
     "output_type": "stream",
     "text": [
      "C:\\Users\\Russell Bogen\\Anaconda3\\lib\\site-packages\\sklearn\\preprocessing\\label.py:151: DeprecationWarning: The truth value of an empty array is ambiguous. Returning False, but in future this will result in an error. Use `array.size > 0` to check that an array is not empty.\n",
      "  if diff:\n"
     ]
    }
   ],
   "source": [
    "encoded_predictions = model.predict_classes(X_test_scaled[840:845])\n",
    "prediction_labels = label_encoder.inverse_transform(encoded_predictions)\n",
    "print(f\"Predicted classes: {prediction_labels}\")\n",
    "print(f\"Actual Labels:     {list(y_test[840:845])}\")"
   ]
  },
  {
   "cell_type": "code",
   "execution_count": 171,
   "metadata": {},
   "outputs": [],
   "source": [
    "# Save the model\n",
    "model.save(\"Feature_Model_Trained.h5\")"
   ]
  },
  {
   "cell_type": "code",
   "execution_count": null,
   "metadata": {},
   "outputs": [],
   "source": []
  }
 ],
 "metadata": {
  "kernelspec": {
   "display_name": "Python 3",
   "language": "python",
   "name": "python3"
  },
  "language_info": {
   "codemirror_mode": {
    "name": "ipython",
    "version": 3
   },
   "file_extension": ".py",
   "mimetype": "text/x-python",
   "name": "python",
   "nbconvert_exporter": "python",
   "pygments_lexer": "ipython3",
   "version": "3.6.5"
  }
 },
 "nbformat": 4,
 "nbformat_minor": 2
}
